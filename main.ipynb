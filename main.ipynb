{
 "cells": [
  {
   "cell_type": "markdown",
   "metadata": {},
   "source": [
    "# Notebook\n",
    "\n",
    "Backup notebook to ensure saving of certain variables can be tested."
   ]
  },
  {
   "cell_type": "code",
   "execution_count": 42,
   "metadata": {},
   "outputs": [
    {
     "name": "stdout",
     "output_type": "stream",
     "text": [
      "The autoreload extension is already loaded. To reload it, use:\n",
      "  %reload_ext autoreload\n"
     ]
    }
   ],
   "source": [
    "%load_ext autoreload\n",
    "%autoreload 2\n",
    "from main import run_experiment\n",
    "from collections import Counter\n",
    "import pickle\n",
    "import pandas as pd"
   ]
  },
  {
   "cell_type": "markdown",
   "metadata": {},
   "source": [
    "## Relevant feature detection"
   ]
  },
  {
   "cell_type": "code",
   "execution_count": 111,
   "metadata": {},
   "outputs": [
    {
     "name": "stderr",
     "output_type": "stream",
     "text": [
      "  0%|          | 0/2 [00:00<?, ?it/s]"
     ]
    },
    {
     "name": "stdout",
     "output_type": "stream",
     "text": [
      "['X', 'O', 3, 4, 'O', 6, 7, 'X', 'X']\n",
      "1\n",
      "Error: Move already taken\n"
     ]
    },
    {
     "name": "stderr",
     "output_type": "stream",
     "text": [
      "100%|██████████| 2/2 [03:02<00:00, 91.23s/it]\n"
     ]
    }
   ],
   "source": [
    "student, env, results = run_experiment(num_games=2, get_context=True)"
   ]
  },
  {
   "cell_type": "code",
   "execution_count": 112,
   "metadata": {},
   "outputs": [
    {
     "name": "stdout",
     "output_type": "stream",
     "text": [
      "{'top_features': {('X', 2, 3, 4, 5, 6, 7, 8, 9): [FeatureActivations(\n",
      "   0: (Feature(\"Small positive integers (1-23) in code and data structures\"), 2.140625)\n",
      "   1: (Feature(\"Activation on the numeral 5, especially in scientific contexts\"), 2.03125)\n",
      "   2: (Feature(\"The model's turn to respond in ASCII-based games\"), 1.359375)\n",
      "   3: (Feature(\"May dates in SQL queries\"), 1.328125)\n",
      "   4: (Feature(\"Numerical patterns and sequences in structured data\"), 1.296875)\n",
      ")], ('X', 2, 3, 4, 'O', 6, 7, 8, 'X'): [FeatureActivations(\n",
      "   0: (Feature(\"Representation of the number 2 or second position\"), 3.765625)\n",
      "   1: (Feature(\"The model's turn to respond in ASCII-based games\"), 1.375)\n",
      "   2: (Feature(\"Detection of the numeral 2\"), 1.2109375)\n",
      "   3: (Feature(\"Grid-based representations in games and visual patterns\"), 1.0546875)\n",
      "   4: (Feature(\"Numbered list items in language processing tasks\"), 0.875)\n",
      ")], ('X', 'O', 3, 4, 'O', 6, 7, 'X', 'X'): [FeatureActivations(\n",
      "   0: (Feature(\"The number 4\"), 2.09375)\n",
      "   1: (Feature(\"The model's turn to respond in ASCII-based games\"), 2.046875)\n",
      "   2: (Feature(\"Small to medium numbers in structured lists or game results\"), 1.6328125)\n",
      "   3: (Feature(\"ASCII art vertical lines and forward slashes\"), 1.6171875)\n",
      "   4: (Feature(\"The model should complete a code snippet for a simple game implementation\"), 1.34375)\n",
      ")], (1, 2, 'X', 4, 5, 6, 7, 8, 9): [FeatureActivations(\n",
      "   0: (Feature(\"Small positive integers (1-23) in code and data structures\"), 2.140625)\n",
      "   1: (Feature(\"Activation on the numeral 5, especially in scientific contexts\"), 2.03125)\n",
      "   2: (Feature(\"The model's turn to respond in ASCII-based games\"), 1.359375)\n",
      "   3: (Feature(\"May dates in SQL queries\"), 1.328125)\n",
      "   4: (Feature(\"Numerical patterns and sequences in structured data\"), 1.296875)\n",
      ")], (1, 2, 'X', 4, 'O', 6, 7, 'X', 9): [FeatureActivations(\n",
      "   0: (Feature(\"The number 6 in sequences or lists\"), 2.859375)\n",
      "   1: (Feature(\"Small integer and decimal representation\"), 1.40625)\n",
      "   2: (Feature(\"Sequential number listing activation\"), 1.3828125)\n",
      "   3: (Feature(\"Small positive integers (1-23) in code and data structures\"), 1.0625)\n",
      "   4: (Feature(\"ASCII art structural elements (vertical lines and box-drawing characters)\"), 1.0078125)\n",
      ")], (1, 2, 'X', 'X', 'O', 'O', 7, 'X', 9): [FeatureActivations(\n",
      "   0: (Feature(\"Representation of the number 2 or second position\"), 3.765625)\n",
      "   1: (Feature(\"The model's turn to respond in ASCII-based games\"), 1.375)\n",
      "   2: (Feature(\"Detection of the numeral 2\"), 1.2109375)\n",
      "   3: (Feature(\"Grid-based representations in games and visual patterns\"), 1.0546875)\n",
      "   4: (Feature(\"Numbered list items in language processing tasks\"), 0.875)\n",
      ")], (1, 'O', 'X', 'X', 'O', 'O', 'X', 'X', 9): [FeatureActivations(\n",
      "   0: (Feature(\"Upper bounds in programming examples (often 100 or 200)\"), 2.03125)\n",
      "   1: (Feature(\"Time representation in schedules and daily life\"), 2.0)\n",
      "   2: (Feature(\"Recognition of the number 9 in scientific contexts\"), 1.6640625)\n",
      "   3: (Feature(\"Sales Performance Metrics and Comparisons\"), 1.6015625)\n",
      "   4: (Feature(\"The model's turn to respond in ASCII-based games\"), 1.4140625)\n",
      ")]}, 'move_5': 2, 'step': 14, 'move_2': 2, 'invalid_move': 1, 'fail_safe': 1, 'move_4': 1, 'move_6': 1, 'move_9': 1}\n"
     ]
    }
   ],
   "source": [
    "print(student.stats)"
   ]
  },
  {
   "cell_type": "code",
   "execution_count": 113,
   "metadata": {},
   "outputs": [
    {
     "name": "stdout",
     "output_type": "stream",
     "text": [
      "Counter({Feature(\"The model's turn to respond in ASCII-based games\"): 6, Feature(\"Small positive integers (1-23) in code and data structures\"): 3, Feature(\"Activation on the numeral 5, especially in scientific contexts\"): 2, Feature(\"May dates in SQL queries\"): 2, Feature(\"Numerical patterns and sequences in structured data\"): 2, Feature(\"Representation of the number 2 or second position\"): 2, Feature(\"Detection of the numeral 2\"): 2, Feature(\"Grid-based representations in games and visual patterns\"): 2, Feature(\"Numbered list items in language processing tasks\"): 2, Feature(\"The number 4\"): 1, Feature(\"Small to medium numbers in structured lists or game results\"): 1, Feature(\"ASCII art vertical lines and forward slashes\"): 1, Feature(\"The model should complete a code snippet for a simple game implementation\"): 1, Feature(\"The number 6 in sequences or lists\"): 1, Feature(\"Small integer and decimal representation\"): 1, Feature(\"Sequential number listing activation\"): 1, Feature(\"ASCII art structural elements (vertical lines and box-drawing characters)\"): 1, Feature(\"Upper bounds in programming examples (often 100 or 200)\"): 1, Feature(\"Time representation in schedules and daily life\"): 1, Feature(\"Recognition of the number 9 in scientific contexts\"): 1, Feature(\"Sales Performance Metrics and Comparisons\"): 1})\n"
     ]
    }
   ],
   "source": [
    "# Combine all lists into one\n",
    "state_features = []\n",
    "for key in student.stats['top_features']:\n",
    "    state_features += student.stats['top_features'][key]\n",
    "\n",
    "all_features = []\n",
    "for i in range(len(state_features)):\n",
    "    all_features += state_features[i]\n",
    "    \n",
    "feature_values = []\n",
    "for feature in all_features:\n",
    "    feature_values.append(feature.feature)\n",
    "\n",
    "feature_counts = Counter(feature_values)\n",
    "print(feature_counts)"
   ]
  },
  {
   "cell_type": "code",
   "execution_count": 45,
   "metadata": {},
   "outputs": [],
   "source": [
    "# Save the results\n",
    "with open('output/results.pkl', 'wb') as f:\n",
    "    pickle.dump(feature_counts, f)\n",
    "\n",
    "# Human readable results\n",
    "df = pd.DataFrame.from_dict(feature_counts, orient='index')\n",
    "df.to_csv('output/results.csv')"
   ]
  },
  {
   "cell_type": "code",
   "execution_count": 41,
   "metadata": {},
   "outputs": [
    {
     "name": "stdout",
     "output_type": "stream",
     "text": [
      "Counter({Feature(\"Small positive integers (1-23) in code and data structures\"): 4, Feature(\"Numerical patterns and sequences in structured data\"): 2, Feature(\"Sequences or groups of consecutive numbers\"): 2, Feature(\"Sequential number listing activation\"): 2, Feature(\"Activation on the numeral 5, especially in scientific contexts\"): 1, Feature(\"The model's turn to respond in ASCII-based games\"): 1, Feature(\"May dates in SQL queries\"): 1, Feature(\"Numbers ending in 8 in sequential lists\"): 1, Feature(\"The number 8 in technical or quantitative contexts\"): 1, Feature(\"The number 6 in sequences or lists\"): 1, Feature(\"Small integer and decimal representation\"): 1, Feature(\"ASCII art structural elements (vertical lines and box-drawing characters)\"): 1, Feature(\"Small to medium numbers in structured lists or game results\"): 1, Feature(\"The number 7\"): 1})\n"
     ]
    }
   ],
   "source": [
    "# load the results\n",
    "with open('output/results.pkl', 'rb') as f:\n",
    "    test_results = pickle.load(f)\n",
    "    \n",
    "print(test_results)"
   ]
  },
  {
   "cell_type": "markdown",
   "metadata": {},
   "source": [
    "## Determining base success rate"
   ]
  },
  {
   "cell_type": "code",
   "execution_count": 103,
   "metadata": {},
   "outputs": [
    {
     "name": "stderr",
     "output_type": "stream",
     "text": [
      "100%|██████████| 2/2 [00:15<00:00,  7.69s/it]"
     ]
    },
    {
     "name": "stdout",
     "output_type": "stream",
     "text": [
      "{'X': 2, 'O': 0, 'Draw': 0}\n",
      "{'top_features': {}, 'move_8': 2, 'step': 10, 'move_7': 2, 'move_5': 1}\n"
     ]
    },
    {
     "name": "stderr",
     "output_type": "stream",
     "text": [
      "\n"
     ]
    }
   ],
   "source": [
    "student, env, results = run_experiment(num_games=2, get_context=False)\n",
    "print(results)\n",
    "print(student.stats)"
   ]
  },
  {
   "cell_type": "markdown",
   "metadata": {},
   "source": [
    "We define success as winning or drawing. Of course, the tic-tac-toe optimal agent cannot lose, so we only need to look at the draw rate."
   ]
  },
  {
   "cell_type": "markdown",
   "metadata": {},
   "source": [
    "## SAE RL"
   ]
  },
  {
   "cell_type": "code",
   "execution_count": 96,
   "metadata": {},
   "outputs": [
    {
     "name": "stdout",
     "output_type": "stream",
     "text": [
      "               \n",
      "   ]      \n",
      "Error: Could not extract move from text\n",
      " u v u • u s u\n",
      " u s u u u u\n",
      " u s a u a s u u u u u\n",
      "Error: Could not extract move from text\n",
      "DEefe FragspinnerDEunistefe zastavilderefeDE ectefe=_('ancellationTokenfikefeFragmentefe/preferencesizoefe宿DEDEDE\n",
      "Error: Could not extract move from text\n",
      "['O', 'O', 'X', 'X', 'X', 6, 7, 8, 9]\n",
      "1\n",
      "Error: Move already taken\n",
      "asting your tackled\n",
      " avoidance\n",
      " \n",
      "*** \n",
      " them\n",
      "\n",
      " \n",
      "\n",
      "\n",
      " \n",
      "\n",
      " \n",
      " \n",
      "\n",
      "  \n",
      "\n",
      "\n",
      "Error: Could not extract move from text\n",
      "ixingtinoinoerINO WyninoinoinoinoinoinoinoawahccessINOinoffiinoinoетомinoinoinoino\n",
      "Error: Could not extract move from text\n",
      "['X', 2, 3, 4, 5, 6, 7, 8, 9]\n",
      "0\n",
      "Error: Move already taken\n",
      "   Reply safe \\\n",
      " Marino  _s s anal mlad <![  banker   ]   Reply   \n",
      "Error: Could not extract move from text\n",
      " three\n",
      " timeline\n",
      " advancingenencestor\n",
      "oorhn variety credit\n",
      " trio\n",
      "\n",
      "oorroor]ooroor troputhuth\n",
      "Error: Could not extract move from text\n"
     ]
    }
   ],
   "source": [
    "# Sanity checker\n",
    "from stable_baselines3.common.env_checker import check_env\n",
    "from tictactoe import TicTacToeSAE\n",
    "from move_checker import MoveChecker\n",
    "from agents import OptimalAgent\n",
    "from constants import TEACHER\n",
    "\n",
    "move_checker = MoveChecker()\n",
    "optimal_agent = OptimalAgent(TEACHER, move_checker)\n",
    "\n",
    "env = TicTacToeSAE(move_checker=move_checker, teacher=optimal_agent)\n",
    "\n",
    "check_env(env)"
   ]
  },
  {
   "cell_type": "code",
   "execution_count": null,
   "metadata": {},
   "outputs": [
    {
     "name": "stderr",
     "output_type": "stream",
     "text": [
      "  0%|          | 0/1 [00:00<?, ?it/s]\n"
     ]
    },
    {
     "ename": "AttributeError",
     "evalue": "'Feature' object has no attribute 'feature'",
     "output_type": "error",
     "traceback": [
      "\u001b[1;31m---------------------------------------------------------------------------\u001b[0m",
      "\u001b[1;31mAttributeError\u001b[0m                            Traceback (most recent call last)",
      "Cell \u001b[1;32mIn[84], line 1\u001b[0m\n\u001b[1;32m----> 1\u001b[0m student, results \u001b[38;5;241m=\u001b[39m \u001b[43mrun_experiment\u001b[49m\u001b[43m(\u001b[49m\u001b[43mnum_games\u001b[49m\u001b[38;5;241;43m=\u001b[39;49m\u001b[38;5;241;43m1\u001b[39;49m\u001b[43m,\u001b[49m\u001b[43m \u001b[49m\u001b[43mget_context\u001b[49m\u001b[38;5;241;43m=\u001b[39;49m\u001b[38;5;28;43;01mFalse\u001b[39;49;00m\u001b[43m,\u001b[49m\u001b[43m \u001b[49m\u001b[43muse_rl_agent\u001b[49m\u001b[38;5;241;43m=\u001b[39;49m\u001b[38;5;28;43;01mTrue\u001b[39;49;00m\u001b[43m)\u001b[49m\n",
      "File \u001b[1;32mc:\\Dev Projects\\Projects\\sae-rl\\main.py:85\u001b[0m, in \u001b[0;36mrun_experiment\u001b[1;34m(num_games, get_context, use_rl_agent)\u001b[0m\n\u001b[0;32m     82\u001b[0m results \u001b[38;5;241m=\u001b[39m {\u001b[38;5;124m'\u001b[39m\u001b[38;5;124mX\u001b[39m\u001b[38;5;124m'\u001b[39m: \u001b[38;5;241m0\u001b[39m, \u001b[38;5;124m'\u001b[39m\u001b[38;5;124mO\u001b[39m\u001b[38;5;124m'\u001b[39m: \u001b[38;5;241m0\u001b[39m, \u001b[38;5;124m'\u001b[39m\u001b[38;5;124mDraw\u001b[39m\u001b[38;5;124m'\u001b[39m: \u001b[38;5;241m0\u001b[39m}\n\u001b[0;32m     84\u001b[0m \u001b[38;5;66;03m# If agent is RLAgent, always use single_thread as multiple actors are not currently supported\u001b[39;00m\n\u001b[1;32m---> 85\u001b[0m results \u001b[38;5;241m=\u001b[39m \u001b[43msingle_thread\u001b[49m\u001b[43m(\u001b[49m\u001b[43mresults\u001b[49m\u001b[43m,\u001b[49m\u001b[43m \u001b[49m\u001b[43mteacher\u001b[49m\u001b[43m,\u001b[49m\u001b[43m \u001b[49m\u001b[43mstudent\u001b[49m\u001b[43m,\u001b[49m\u001b[43m \u001b[49m\u001b[43mmove_checker\u001b[49m\u001b[43m,\u001b[49m\u001b[43m \u001b[49m\u001b[43mnum_games\u001b[49m\u001b[43m)\u001b[49m\n\u001b[0;32m     88\u001b[0m \u001b[38;5;28mprint\u001b[39m(results)\n\u001b[0;32m     89\u001b[0m \u001b[38;5;28mprint\u001b[39m(student\u001b[38;5;241m.\u001b[39mstats)\n",
      "File \u001b[1;32mc:\\Dev Projects\\Projects\\sae-rl\\main.py:12\u001b[0m, in \u001b[0;36msingle_thread\u001b[1;34m(results, teacher, agent, move_checker, num_games)\u001b[0m\n\u001b[0;32m     10\u001b[0m \u001b[38;5;28;01mdef\u001b[39;00m \u001b[38;5;21msingle_thread\u001b[39m(results, teacher, agent, move_checker, num_games\u001b[38;5;241m=\u001b[39mNUM_GAMES):\n\u001b[0;32m     11\u001b[0m     \u001b[38;5;28;01mfor\u001b[39;00m _ \u001b[38;5;129;01min\u001b[39;00m tqdm(\u001b[38;5;28mrange\u001b[39m(num_games)):\n\u001b[1;32m---> 12\u001b[0m         winner \u001b[38;5;241m=\u001b[39m \u001b[43mplay_game\u001b[49m\u001b[43m(\u001b[49m\u001b[43mteacher\u001b[49m\u001b[43m,\u001b[49m\u001b[43m \u001b[49m\u001b[43magent\u001b[49m\u001b[43m,\u001b[49m\u001b[43m \u001b[49m\u001b[43mmove_checker\u001b[49m\u001b[43m)\u001b[49m\n\u001b[0;32m     13\u001b[0m         results[winner] \u001b[38;5;241m+\u001b[39m\u001b[38;5;241m=\u001b[39m \u001b[38;5;241m1\u001b[39m\n\u001b[0;32m     15\u001b[0m     \u001b[38;5;28;01mreturn\u001b[39;00m results\n",
      "File \u001b[1;32mc:\\Dev Projects\\Projects\\sae-rl\\main.py:64\u001b[0m, in \u001b[0;36mplay_game\u001b[1;34m(teacher, student, move_checker, verbose)\u001b[0m\n\u001b[0;32m     62\u001b[0m     regular_game(student, env, verbose)   \n\u001b[0;32m     63\u001b[0m \u001b[38;5;28;01melse\u001b[39;00m:\n\u001b[1;32m---> 64\u001b[0m     env \u001b[38;5;241m=\u001b[39m \u001b[43mTicTacToeSAE\u001b[49m\u001b[43m(\u001b[49m\u001b[43mmove_checker\u001b[49m\u001b[43m,\u001b[49m\u001b[43m \u001b[49m\u001b[43mteacher\u001b[49m\u001b[43m)\u001b[49m\n\u001b[0;32m     65\u001b[0m     sae_rl_game(student, env, verbose)\n\u001b[0;32m     67\u001b[0m \u001b[38;5;28;01mreturn\u001b[39;00m env\u001b[38;5;241m.\u001b[39mwinner\n",
      "File \u001b[1;32mc:\\Dev Projects\\Projects\\sae-rl\\tictactoe.py:139\u001b[0m, in \u001b[0;36mTicTacToeSAE.__init__\u001b[1;34m(self, move_checker, teacher)\u001b[0m\n\u001b[0;32m    136\u001b[0m action_candidates \u001b[38;5;241m=\u001b[39m pickle\u001b[38;5;241m.\u001b[39mload(\u001b[38;5;28mopen\u001b[39m(\u001b[38;5;124m'\u001b[39m\u001b[38;5;124moutput/results.pkl\u001b[39m\u001b[38;5;124m'\u001b[39m, \u001b[38;5;124m'\u001b[39m\u001b[38;5;124mrb\u001b[39m\u001b[38;5;124m'\u001b[39m))\n\u001b[0;32m    138\u001b[0m \u001b[38;5;66;03m# Get the top NUM_ACTIONS_SAE actions\u001b[39;00m\n\u001b[1;32m--> 139\u001b[0m \u001b[38;5;28mself\u001b[39m\u001b[38;5;241m.\u001b[39maction_candidates \u001b[38;5;241m=\u001b[39m \u001b[43m[\u001b[49m\u001b[43mx\u001b[49m\u001b[43m[\u001b[49m\u001b[38;5;241;43m0\u001b[39;49m\u001b[43m]\u001b[49m\u001b[38;5;241;43m.\u001b[39;49m\u001b[43mfeature\u001b[49m\u001b[43m \u001b[49m\u001b[38;5;28;43;01mfor\u001b[39;49;00m\u001b[43m \u001b[49m\u001b[43mx\u001b[49m\u001b[43m \u001b[49m\u001b[38;5;129;43;01min\u001b[39;49;00m\u001b[43m \u001b[49m\u001b[43maction_candidates\u001b[49m\u001b[38;5;241;43m.\u001b[39;49m\u001b[43mmost_common\u001b[49m\u001b[43m(\u001b[49m\u001b[43mNUM_ACTIONS_SAE\u001b[49m\u001b[43m)\u001b[49m\u001b[43m]\u001b[49m\n\u001b[0;32m    141\u001b[0m \u001b[38;5;28mprint\u001b[39m(\u001b[38;5;28mlen\u001b[39m(\u001b[38;5;28mself\u001b[39m\u001b[38;5;241m.\u001b[39maction_candidates))\n\u001b[0;32m    142\u001b[0m exit()\n",
      "File \u001b[1;32mc:\\Dev Projects\\Projects\\sae-rl\\tictactoe.py:139\u001b[0m, in \u001b[0;36m<listcomp>\u001b[1;34m(.0)\u001b[0m\n\u001b[0;32m    136\u001b[0m action_candidates \u001b[38;5;241m=\u001b[39m pickle\u001b[38;5;241m.\u001b[39mload(\u001b[38;5;28mopen\u001b[39m(\u001b[38;5;124m'\u001b[39m\u001b[38;5;124moutput/results.pkl\u001b[39m\u001b[38;5;124m'\u001b[39m, \u001b[38;5;124m'\u001b[39m\u001b[38;5;124mrb\u001b[39m\u001b[38;5;124m'\u001b[39m))\n\u001b[0;32m    138\u001b[0m \u001b[38;5;66;03m# Get the top NUM_ACTIONS_SAE actions\u001b[39;00m\n\u001b[1;32m--> 139\u001b[0m \u001b[38;5;28mself\u001b[39m\u001b[38;5;241m.\u001b[39maction_candidates \u001b[38;5;241m=\u001b[39m [\u001b[43mx\u001b[49m\u001b[43m[\u001b[49m\u001b[38;5;241;43m0\u001b[39;49m\u001b[43m]\u001b[49m\u001b[38;5;241;43m.\u001b[39;49m\u001b[43mfeature\u001b[49m \u001b[38;5;28;01mfor\u001b[39;00m x \u001b[38;5;129;01min\u001b[39;00m action_candidates\u001b[38;5;241m.\u001b[39mmost_common(NUM_ACTIONS_SAE)]\n\u001b[0;32m    141\u001b[0m \u001b[38;5;28mprint\u001b[39m(\u001b[38;5;28mlen\u001b[39m(\u001b[38;5;28mself\u001b[39m\u001b[38;5;241m.\u001b[39maction_candidates))\n\u001b[0;32m    142\u001b[0m exit()\n",
      "\u001b[1;31mAttributeError\u001b[0m: 'Feature' object has no attribute 'feature'"
     ]
    }
   ],
   "source": [
    "student, env, results = run_experiment(num_games=1, get_context=False, use_rl_agent=True)"
   ]
  },
  {
   "cell_type": "code",
   "execution_count": null,
   "metadata": {},
   "outputs": [],
   "source": [
    "print(results)\n"
   ]
  }
 ],
 "metadata": {
  "kernelspec": {
   "display_name": "saerl",
   "language": "python",
   "name": "python3"
  },
  "language_info": {
   "codemirror_mode": {
    "name": "ipython",
    "version": 3
   },
   "file_extension": ".py",
   "mimetype": "text/x-python",
   "name": "python",
   "nbconvert_exporter": "python",
   "pygments_lexer": "ipython3",
   "version": "3.11.10"
  }
 },
 "nbformat": 4,
 "nbformat_minor": 2
}
