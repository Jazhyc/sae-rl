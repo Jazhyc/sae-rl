{
 "cells": [
  {
   "cell_type": "markdown",
   "metadata": {},
   "source": [
    "# Notebook\n",
    "\n",
    "Backup notebook to ensure saving of certain variables can be tested."
   ]
  },
  {
   "cell_type": "code",
   "execution_count": 42,
   "metadata": {},
   "outputs": [
    {
     "name": "stdout",
     "output_type": "stream",
     "text": [
      "The autoreload extension is already loaded. To reload it, use:\n",
      "  %reload_ext autoreload\n"
     ]
    }
   ],
   "source": [
    "%load_ext autoreload\n",
    "%autoreload 2\n",
    "from main import run_experiment\n",
    "from collections import Counter\n",
    "import pickle\n",
    "import pandas as pd"
   ]
  },
  {
   "cell_type": "markdown",
   "metadata": {},
   "source": [
    "## Relevant feature detection"
   ]
  },
  {
   "cell_type": "code",
   "execution_count": null,
   "metadata": {},
   "outputs": [
    {
     "name": "stderr",
     "output_type": "stream",
     "text": [
      "100%|██████████| 1/1 [00:56<00:00, 56.63s/it]"
     ]
    },
    {
     "name": "stdout",
     "output_type": "stream",
     "text": [
      "{'X': 1, 'O': 0, 'Draw': 0}\n",
      "{'top_features': {(1, 2, 3, 4, 5, 'X', 7, 8, 9): [FeatureActivations(\n",
      "   0: (Feature(\"Small positive integers (1-23) in code and data structures\"), 2.140625)\n",
      "   1: (Feature(\"Activation on the numeral 5, especially in scientific contexts\"), 2.03125)\n",
      "   2: (Feature(\"The model's turn to respond in ASCII-based games\"), 1.359375)\n",
      "   3: (Feature(\"May dates in SQL queries\"), 1.328125)\n",
      "   4: (Feature(\"Numerical patterns and sequences in structured data\"), 1.296875)\n",
      ")], (1, 2, 3, 4, 'O', 'X', 7, 8, 'X'): [FeatureActivations(\n",
      "   0: (Feature(\"Small positive integers (1-23) in code and data structures\"), 2.0625)\n",
      "   1: (Feature(\"Sequences or groups of consecutive numbers\"), 1.578125)\n",
      "   2: (Feature(\"Numbers ending in 8 in sequential lists\"), 1.3125)\n",
      "   3: (Feature(\"The number 8 in technical or quantitative contexts\"), 1.2734375)\n",
      "   4: (Feature(\"Numerical patterns and sequences in structured data\"), 1.1171875)\n",
      ")]}, 'move_5': 1, 'step': 2, 'move_8': 1}\n"
     ]
    },
    {
     "name": "stderr",
     "output_type": "stream",
     "text": [
      "\n"
     ]
    }
   ],
   "source": [
    "student, results = run_experiment(num_games=10, get_context=True)"
   ]
  },
  {
   "cell_type": "code",
   "execution_count": 77,
   "metadata": {},
   "outputs": [
    {
     "name": "stdout",
     "output_type": "stream",
     "text": [
      "Counter({Feature(\"Small positive integers (1-23) in code and data structures\"): 2, Feature(\"Numerical patterns and sequences in structured data\"): 2, Feature(\"Activation on the numeral 5, especially in scientific contexts\"): 1, Feature(\"The model's turn to respond in ASCII-based games\"): 1, Feature(\"May dates in SQL queries\"): 1, Feature(\"Sequences or groups of consecutive numbers\"): 1, Feature(\"Numbers ending in 8 in sequential lists\"): 1, Feature(\"The number 8 in technical or quantitative contexts\"): 1})\n"
     ]
    }
   ],
   "source": [
    "# Combine all lists into one\n",
    "state_features = []\n",
    "for key in student.stats['top_features']:\n",
    "    state_features += student.stats['top_features'][key]\n",
    "\n",
    "all_features = []\n",
    "for i in range(len(state_features)):\n",
    "    all_features += state_features[i]\n",
    "    \n",
    "feature_values = []\n",
    "for feature in all_features:\n",
    "    feature_values.append(feature.feature)\n",
    "\n",
    "feature_counts = Counter(feature_values)\n",
    "print(feature_counts)"
   ]
  },
  {
   "cell_type": "code",
   "execution_count": 45,
   "metadata": {},
   "outputs": [],
   "source": [
    "# Save the results\n",
    "with open('output/results.pkl', 'wb') as f:\n",
    "    pickle.dump(feature_counts, f)\n",
    "\n",
    "# Human readable results\n",
    "df = pd.DataFrame.from_dict(feature_counts, orient='index')\n",
    "df.to_csv('output/results.csv')"
   ]
  },
  {
   "cell_type": "code",
   "execution_count": 41,
   "metadata": {},
   "outputs": [
    {
     "name": "stdout",
     "output_type": "stream",
     "text": [
      "Counter({Feature(\"Small positive integers (1-23) in code and data structures\"): 4, Feature(\"Numerical patterns and sequences in structured data\"): 2, Feature(\"Sequences or groups of consecutive numbers\"): 2, Feature(\"Sequential number listing activation\"): 2, Feature(\"Activation on the numeral 5, especially in scientific contexts\"): 1, Feature(\"The model's turn to respond in ASCII-based games\"): 1, Feature(\"May dates in SQL queries\"): 1, Feature(\"Numbers ending in 8 in sequential lists\"): 1, Feature(\"The number 8 in technical or quantitative contexts\"): 1, Feature(\"The number 6 in sequences or lists\"): 1, Feature(\"Small integer and decimal representation\"): 1, Feature(\"ASCII art structural elements (vertical lines and box-drawing characters)\"): 1, Feature(\"Small to medium numbers in structured lists or game results\"): 1, Feature(\"The number 7\"): 1})\n"
     ]
    }
   ],
   "source": [
    "# load the results\n",
    "with open('output/results.pkl', 'rb') as f:\n",
    "    test_results = pickle.load(f)\n",
    "    \n",
    "print(test_results)"
   ]
  },
  {
   "cell_type": "markdown",
   "metadata": {},
   "source": [
    "## Determining base success rate"
   ]
  },
  {
   "cell_type": "code",
   "execution_count": 72,
   "metadata": {},
   "outputs": [
    {
     "name": "stderr",
     "output_type": "stream",
     "text": [
      "  0%|          | 0/1 [00:00<?, ?it/s]"
     ]
    },
    {
     "name": "stdout",
     "output_type": "stream",
     "text": [
      "[1, 2, 3, 4, 5, 6, 'X', 8, 9]\n",
      "['X', 2, 3, 4, 'O', 6, 'X', 8, 9]\n"
     ]
    },
    {
     "name": "stderr",
     "output_type": "stream",
     "text": [
      "100%|██████████| 1/1 [00:09<00:00,  9.07s/it]"
     ]
    },
    {
     "name": "stdout",
     "output_type": "stream",
     "text": [
      "['X', 'O', 3, 4, 'O', 6, 'X', 'X', 9]\n",
      "{'X': 1, 'O': 0, 'Draw': 0}\n",
      "{'top_features': {}, 'move_5': 1, 'step': 3, 'move_2': 1, 'move_6': 1}\n",
      "{'X': 1, 'O': 0, 'Draw': 0}\n",
      "{'top_features': {}, 'move_5': 1, 'step': 3, 'move_2': 1, 'move_6': 1}\n"
     ]
    },
    {
     "name": "stderr",
     "output_type": "stream",
     "text": [
      "\n"
     ]
    }
   ],
   "source": [
    "student, results = run_experiment(num_games=1, get_context=False)\n",
    "print(results)\n",
    "print(student.stats)"
   ]
  },
  {
   "cell_type": "markdown",
   "metadata": {},
   "source": [
    "We define success as winning or drawing. Of course, the tic-tac-toe optimal agent cannot lose, so we only need to look at the draw rate."
   ]
  }
 ],
 "metadata": {
  "kernelspec": {
   "display_name": "saerl",
   "language": "python",
   "name": "python3"
  },
  "language_info": {
   "codemirror_mode": {
    "name": "ipython",
    "version": 3
   },
   "file_extension": ".py",
   "mimetype": "text/x-python",
   "name": "python",
   "nbconvert_exporter": "python",
   "pygments_lexer": "ipython3",
   "version": "3.11.10"
  }
 },
 "nbformat": 4,
 "nbformat_minor": 2
}
