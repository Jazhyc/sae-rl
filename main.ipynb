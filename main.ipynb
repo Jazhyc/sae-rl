{
 "cells": [
  {
   "cell_type": "markdown",
   "metadata": {},
   "source": [
    "# Notebook\n",
    "\n",
    "Backup notebook to ensure saving of certain variables can be tested."
   ]
  },
  {
   "cell_type": "code",
   "execution_count": 1,
   "metadata": {},
   "outputs": [],
   "source": [
    "%load_ext autoreload\n",
    "%autoreload 2\n",
    "from main import run_experiment\n",
    "from collections import Counter\n",
    "import pickle\n",
    "import pandas as pd"
   ]
  },
  {
   "cell_type": "markdown",
   "metadata": {},
   "source": [
    "## Relevant feature detection"
   ]
  },
  {
   "cell_type": "code",
   "execution_count": 111,
   "metadata": {},
   "outputs": [
    {
     "name": "stderr",
     "output_type": "stream",
     "text": [
      "  0%|          | 0/2 [00:00<?, ?it/s]"
     ]
    },
    {
     "name": "stdout",
     "output_type": "stream",
     "text": [
      "['X', 'O', 3, 4, 'O', 6, 7, 'X', 'X']\n",
      "1\n",
      "Error: Move already taken\n"
     ]
    },
    {
     "name": "stderr",
     "output_type": "stream",
     "text": [
      "100%|██████████| 2/2 [03:02<00:00, 91.23s/it]\n"
     ]
    }
   ],
   "source": [
    "student, env, results = run_experiment(num_games=2, get_context=True)"
   ]
  },
  {
   "cell_type": "code",
   "execution_count": 112,
   "metadata": {},
   "outputs": [
    {
     "name": "stdout",
     "output_type": "stream",
     "text": [
      "{'top_features': {('X', 2, 3, 4, 5, 6, 7, 8, 9): [FeatureActivations(\n",
      "   0: (Feature(\"Small positive integers (1-23) in code and data structures\"), 2.140625)\n",
      "   1: (Feature(\"Activation on the numeral 5, especially in scientific contexts\"), 2.03125)\n",
      "   2: (Feature(\"The model's turn to respond in ASCII-based games\"), 1.359375)\n",
      "   3: (Feature(\"May dates in SQL queries\"), 1.328125)\n",
      "   4: (Feature(\"Numerical patterns and sequences in structured data\"), 1.296875)\n",
      ")], ('X', 2, 3, 4, 'O', 6, 7, 8, 'X'): [FeatureActivations(\n",
      "   0: (Feature(\"Representation of the number 2 or second position\"), 3.765625)\n",
      "   1: (Feature(\"The model's turn to respond in ASCII-based games\"), 1.375)\n",
      "   2: (Feature(\"Detection of the numeral 2\"), 1.2109375)\n",
      "   3: (Feature(\"Grid-based representations in games and visual patterns\"), 1.0546875)\n",
      "   4: (Feature(\"Numbered list items in language processing tasks\"), 0.875)\n",
      ")], ('X', 'O', 3, 4, 'O', 6, 7, 'X', 'X'): [FeatureActivations(\n",
      "   0: (Feature(\"The number 4\"), 2.09375)\n",
      "   1: (Feature(\"The model's turn to respond in ASCII-based games\"), 2.046875)\n",
      "   2: (Feature(\"Small to medium numbers in structured lists or game results\"), 1.6328125)\n",
      "   3: (Feature(\"ASCII art vertical lines and forward slashes\"), 1.6171875)\n",
      "   4: (Feature(\"The model should complete a code snippet for a simple game implementation\"), 1.34375)\n",
      ")], (1, 2, 'X', 4, 5, 6, 7, 8, 9): [FeatureActivations(\n",
      "   0: (Feature(\"Small positive integers (1-23) in code and data structures\"), 2.140625)\n",
      "   1: (Feature(\"Activation on the numeral 5, especially in scientific contexts\"), 2.03125)\n",
      "   2: (Feature(\"The model's turn to respond in ASCII-based games\"), 1.359375)\n",
      "   3: (Feature(\"May dates in SQL queries\"), 1.328125)\n",
      "   4: (Feature(\"Numerical patterns and sequences in structured data\"), 1.296875)\n",
      ")], (1, 2, 'X', 4, 'O', 6, 7, 'X', 9): [FeatureActivations(\n",
      "   0: (Feature(\"The number 6 in sequences or lists\"), 2.859375)\n",
      "   1: (Feature(\"Small integer and decimal representation\"), 1.40625)\n",
      "   2: (Feature(\"Sequential number listing activation\"), 1.3828125)\n",
      "   3: (Feature(\"Small positive integers (1-23) in code and data structures\"), 1.0625)\n",
      "   4: (Feature(\"ASCII art structural elements (vertical lines and box-drawing characters)\"), 1.0078125)\n",
      ")], (1, 2, 'X', 'X', 'O', 'O', 7, 'X', 9): [FeatureActivations(\n",
      "   0: (Feature(\"Representation of the number 2 or second position\"), 3.765625)\n",
      "   1: (Feature(\"The model's turn to respond in ASCII-based games\"), 1.375)\n",
      "   2: (Feature(\"Detection of the numeral 2\"), 1.2109375)\n",
      "   3: (Feature(\"Grid-based representations in games and visual patterns\"), 1.0546875)\n",
      "   4: (Feature(\"Numbered list items in language processing tasks\"), 0.875)\n",
      ")], (1, 'O', 'X', 'X', 'O', 'O', 'X', 'X', 9): [FeatureActivations(\n",
      "   0: (Feature(\"Upper bounds in programming examples (often 100 or 200)\"), 2.03125)\n",
      "   1: (Feature(\"Time representation in schedules and daily life\"), 2.0)\n",
      "   2: (Feature(\"Recognition of the number 9 in scientific contexts\"), 1.6640625)\n",
      "   3: (Feature(\"Sales Performance Metrics and Comparisons\"), 1.6015625)\n",
      "   4: (Feature(\"The model's turn to respond in ASCII-based games\"), 1.4140625)\n",
      ")]}, 'move_5': 2, 'step': 14, 'move_2': 2, 'invalid_move': 1, 'fail_safe': 1, 'move_4': 1, 'move_6': 1, 'move_9': 1}\n"
     ]
    }
   ],
   "source": [
    "print(student.stats)"
   ]
  },
  {
   "cell_type": "code",
   "execution_count": 113,
   "metadata": {},
   "outputs": [
    {
     "name": "stdout",
     "output_type": "stream",
     "text": [
      "Counter({Feature(\"The model's turn to respond in ASCII-based games\"): 6, Feature(\"Small positive integers (1-23) in code and data structures\"): 3, Feature(\"Activation on the numeral 5, especially in scientific contexts\"): 2, Feature(\"May dates in SQL queries\"): 2, Feature(\"Numerical patterns and sequences in structured data\"): 2, Feature(\"Representation of the number 2 or second position\"): 2, Feature(\"Detection of the numeral 2\"): 2, Feature(\"Grid-based representations in games and visual patterns\"): 2, Feature(\"Numbered list items in language processing tasks\"): 2, Feature(\"The number 4\"): 1, Feature(\"Small to medium numbers in structured lists or game results\"): 1, Feature(\"ASCII art vertical lines and forward slashes\"): 1, Feature(\"The model should complete a code snippet for a simple game implementation\"): 1, Feature(\"The number 6 in sequences or lists\"): 1, Feature(\"Small integer and decimal representation\"): 1, Feature(\"Sequential number listing activation\"): 1, Feature(\"ASCII art structural elements (vertical lines and box-drawing characters)\"): 1, Feature(\"Upper bounds in programming examples (often 100 or 200)\"): 1, Feature(\"Time representation in schedules and daily life\"): 1, Feature(\"Recognition of the number 9 in scientific contexts\"): 1, Feature(\"Sales Performance Metrics and Comparisons\"): 1})\n"
     ]
    }
   ],
   "source": [
    "# Combine all lists into one\n",
    "state_features = []\n",
    "for key in student.stats['top_features']:\n",
    "    state_features += student.stats['top_features'][key]\n",
    "\n",
    "all_features = []\n",
    "for i in range(len(state_features)):\n",
    "    all_features += state_features[i]\n",
    "    \n",
    "feature_values = []\n",
    "for feature in all_features:\n",
    "    feature_values.append(feature.feature)\n",
    "\n",
    "feature_counts = Counter(feature_values)\n",
    "print(feature_counts)"
   ]
  },
  {
   "cell_type": "code",
   "execution_count": 45,
   "metadata": {},
   "outputs": [],
   "source": [
    "# Save the results\n",
    "with open('output/results.pkl', 'wb') as f:\n",
    "    pickle.dump(feature_counts, f)\n",
    "\n",
    "# Human readable results\n",
    "df = pd.DataFrame.from_dict(feature_counts, orient='index')\n",
    "df.to_csv('output/results.csv')"
   ]
  },
  {
   "cell_type": "code",
   "execution_count": 41,
   "metadata": {},
   "outputs": [
    {
     "name": "stdout",
     "output_type": "stream",
     "text": [
      "Counter({Feature(\"Small positive integers (1-23) in code and data structures\"): 4, Feature(\"Numerical patterns and sequences in structured data\"): 2, Feature(\"Sequences or groups of consecutive numbers\"): 2, Feature(\"Sequential number listing activation\"): 2, Feature(\"Activation on the numeral 5, especially in scientific contexts\"): 1, Feature(\"The model's turn to respond in ASCII-based games\"): 1, Feature(\"May dates in SQL queries\"): 1, Feature(\"Numbers ending in 8 in sequential lists\"): 1, Feature(\"The number 8 in technical or quantitative contexts\"): 1, Feature(\"The number 6 in sequences or lists\"): 1, Feature(\"Small integer and decimal representation\"): 1, Feature(\"ASCII art structural elements (vertical lines and box-drawing characters)\"): 1, Feature(\"Small to medium numbers in structured lists or game results\"): 1, Feature(\"The number 7\"): 1})\n"
     ]
    }
   ],
   "source": [
    "# load the results\n",
    "with open('output/results.pkl', 'rb') as f:\n",
    "    test_results = pickle.load(f)\n",
    "    \n",
    "print(test_results)"
   ]
  },
  {
   "cell_type": "markdown",
   "metadata": {},
   "source": [
    "## Determining base success rate"
   ]
  },
  {
   "cell_type": "code",
   "execution_count": 22,
   "metadata": {},
   "outputs": [
    {
     "name": "stderr",
     "output_type": "stream",
     "text": [
      "100%|██████████| 100/100 [17:25<00:00, 10.45s/it]"
     ]
    },
    {
     "name": "stdout",
     "output_type": "stream",
     "text": [
      "{'X': 99, 'O': 0, 'Draw': 1}\n",
      "{'top_features': {}, 'move_5': 88, 'step': 588, 'move_8': 48, 'move_7': 34, 'move_2': 57, 'invalid_move': 21, 'fail_safe': 21, 'move_9': 15, 'move_6': 32, 'move_4': 7, 'move_3': 6, 'move_1': 7}\n"
     ]
    },
    {
     "name": "stderr",
     "output_type": "stream",
     "text": [
      "\n"
     ]
    }
   ],
   "source": [
    "student_base, env_base, results_base = run_experiment(num_games=100, get_context=False)\n",
    "print(results_base)\n",
    "print(student_base.stats)"
   ]
  },
  {
   "cell_type": "markdown",
   "metadata": {},
   "source": [
    "We define success as winning or drawing. Of course, the tic-tac-toe optimal agent cannot lose, so we only need to look at the draw rate."
   ]
  },
  {
   "cell_type": "markdown",
   "metadata": {},
   "source": [
    "## SAE RL"
   ]
  },
  {
   "cell_type": "code",
   "execution_count": 96,
   "metadata": {},
   "outputs": [
    {
     "name": "stdout",
     "output_type": "stream",
     "text": [
      "               \n",
      "   ]      \n",
      "Error: Could not extract move from text\n",
      " u v u • u s u\n",
      " u s u u u u\n",
      " u s a u a s u u u u u\n",
      "Error: Could not extract move from text\n",
      "DEefe FragspinnerDEunistefe zastavilderefeDE ectefe=_('ancellationTokenfikefeFragmentefe/preferencesizoefe宿DEDEDE\n",
      "Error: Could not extract move from text\n",
      "['O', 'O', 'X', 'X', 'X', 6, 7, 8, 9]\n",
      "1\n",
      "Error: Move already taken\n",
      "asting your tackled\n",
      " avoidance\n",
      " \n",
      "*** \n",
      " them\n",
      "\n",
      " \n",
      "\n",
      "\n",
      " \n",
      "\n",
      " \n",
      " \n",
      "\n",
      "  \n",
      "\n",
      "\n",
      "Error: Could not extract move from text\n",
      "ixingtinoinoerINO WyninoinoinoinoinoinoinoawahccessINOinoffiinoinoетомinoinoinoino\n",
      "Error: Could not extract move from text\n",
      "['X', 2, 3, 4, 5, 6, 7, 8, 9]\n",
      "0\n",
      "Error: Move already taken\n",
      "   Reply safe \\\n",
      " Marino  _s s anal mlad <![  banker   ]   Reply   \n",
      "Error: Could not extract move from text\n",
      " three\n",
      " timeline\n",
      " advancingenencestor\n",
      "oorhn variety credit\n",
      " trio\n",
      "\n",
      "oorroor]ooroor troputhuth\n",
      "Error: Could not extract move from text\n"
     ]
    }
   ],
   "source": [
    "# Sanity checker\n",
    "from stable_baselines3.common.env_checker import check_env\n",
    "from tictactoe import TicTacToeSAE\n",
    "from move_checker import MoveChecker\n",
    "from agents import OptimalAgent\n",
    "from constants import TEACHER\n",
    "\n",
    "move_checker = MoveChecker()\n",
    "optimal_agent = OptimalAgent(TEACHER, move_checker)\n",
    "\n",
    "env = TicTacToeSAE(move_checker=move_checker, teacher=optimal_agent)\n",
    "\n",
    "check_env(env)"
   ]
  },
  {
   "cell_type": "code",
   "execution_count": null,
   "metadata": {},
   "outputs": [],
   "source": [
    "# This might crash\n",
    "student_rl, env_rl, results_rl = run_experiment(num_games=3000, get_context=False, use_rl_agent=True, test_agent=False) # num_games is really num steps in this case"
   ]
  },
  {
   "cell_type": "code",
   "execution_count": 7,
   "metadata": {},
   "outputs": [
    {
     "name": "stdout",
     "output_type": "stream",
     "text": [
      "{'X': 8, 'O': 0, 'Draw': 0}\n"
     ]
    }
   ],
   "source": [
    "print(results_rl)"
   ]
  },
  {
   "cell_type": "markdown",
   "metadata": {},
   "source": [
    "## Testing Agent"
   ]
  },
  {
   "cell_type": "code",
   "execution_count": 23,
   "metadata": {},
   "outputs": [
    {
     "name": "stdout",
     "output_type": "stream",
     "text": [
      "Using cpu device\n",
      "Wrapping the env with a `Monitor` wrapper\n",
      "Wrapping the env in a DummyVecEnv.\n",
      "Loading trained model\n"
     ]
    },
    {
     "name": "stderr",
     "output_type": "stream",
     "text": [
      "100%|██████████| 100/100 [19:17<00:00, 11.57s/it]\n"
     ]
    }
   ],
   "source": [
    "student_test, env_test, results_test = run_experiment(num_games=100, get_context=False, use_rl_agent=True, test_agent=True)"
   ]
  },
  {
   "cell_type": "code",
   "execution_count": 17,
   "metadata": {},
   "outputs": [
    {
     "name": "stdout",
     "output_type": "stream",
     "text": [
      "{'X': 100, 'O': 0, 'Draw': 0}\n"
     ]
    }
   ],
   "source": [
    "print(results_test)"
   ]
  },
  {
   "cell_type": "code",
   "execution_count": 21,
   "metadata": {},
   "outputs": [],
   "source": [
    "pickle.dump(env_test.stats['activations'], open('output/features.pkl', 'wb'))"
   ]
  }
 ],
 "metadata": {
  "kernelspec": {
   "display_name": "saerl",
   "language": "python",
   "name": "python3"
  },
  "language_info": {
   "codemirror_mode": {
    "name": "ipython",
    "version": 3
   },
   "file_extension": ".py",
   "mimetype": "text/x-python",
   "name": "python",
   "nbconvert_exporter": "python",
   "pygments_lexer": "ipython3",
   "version": "3.11.10"
  }
 },
 "nbformat": 4,
 "nbformat_minor": 2
}
