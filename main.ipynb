{
 "cells": [
  {
   "cell_type": "markdown",
   "metadata": {},
   "source": [
    "# Notebook\n",
    "\n",
    "Backup notebook to ensure saving of certain variables can be tested."
   ]
  },
  {
   "cell_type": "code",
   "execution_count": 42,
   "metadata": {},
   "outputs": [
    {
     "name": "stdout",
     "output_type": "stream",
     "text": [
      "The autoreload extension is already loaded. To reload it, use:\n",
      "  %reload_ext autoreload\n"
     ]
    }
   ],
   "source": [
    "%load_ext autoreload\n",
    "%autoreload 2\n",
    "from main import run_experiment\n",
    "from collections import Counter\n",
    "import pickle\n",
    "import pandas as pd"
   ]
  },
  {
   "cell_type": "markdown",
   "metadata": {},
   "source": [
    "## Relevant feature detection"
   ]
  },
  {
   "cell_type": "code",
   "execution_count": 111,
   "metadata": {},
   "outputs": [
    {
     "name": "stderr",
     "output_type": "stream",
     "text": [
      "  0%|          | 0/2 [00:00<?, ?it/s]"
     ]
    },
    {
     "name": "stdout",
     "output_type": "stream",
     "text": [
      "['X', 'O', 3, 4, 'O', 6, 7, 'X', 'X']\n",
      "1\n",
      "Error: Move already taken\n"
     ]
    },
    {
     "name": "stderr",
     "output_type": "stream",
     "text": [
      "100%|██████████| 2/2 [03:02<00:00, 91.23s/it]\n"
     ]
    }
   ],
   "source": [
    "student, env, results = run_experiment(num_games=2, get_context=True)"
   ]
  },
  {
   "cell_type": "code",
   "execution_count": 112,
   "metadata": {},
   "outputs": [
    {
     "name": "stdout",
     "output_type": "stream",
     "text": [
      "{'top_features': {('X', 2, 3, 4, 5, 6, 7, 8, 9): [FeatureActivations(\n",
      "   0: (Feature(\"Small positive integers (1-23) in code and data structures\"), 2.140625)\n",
      "   1: (Feature(\"Activation on the numeral 5, especially in scientific contexts\"), 2.03125)\n",
      "   2: (Feature(\"The model's turn to respond in ASCII-based games\"), 1.359375)\n",
      "   3: (Feature(\"May dates in SQL queries\"), 1.328125)\n",
      "   4: (Feature(\"Numerical patterns and sequences in structured data\"), 1.296875)\n",
      ")], ('X', 2, 3, 4, 'O', 6, 7, 8, 'X'): [FeatureActivations(\n",
      "   0: (Feature(\"Representation of the number 2 or second position\"), 3.765625)\n",
      "   1: (Feature(\"The model's turn to respond in ASCII-based games\"), 1.375)\n",
      "   2: (Feature(\"Detection of the numeral 2\"), 1.2109375)\n",
      "   3: (Feature(\"Grid-based representations in games and visual patterns\"), 1.0546875)\n",
      "   4: (Feature(\"Numbered list items in language processing tasks\"), 0.875)\n",
      ")], ('X', 'O', 3, 4, 'O', 6, 7, 'X', 'X'): [FeatureActivations(\n",
      "   0: (Feature(\"The number 4\"), 2.09375)\n",
      "   1: (Feature(\"The model's turn to respond in ASCII-based games\"), 2.046875)\n",
      "   2: (Feature(\"Small to medium numbers in structured lists or game results\"), 1.6328125)\n",
      "   3: (Feature(\"ASCII art vertical lines and forward slashes\"), 1.6171875)\n",
      "   4: (Feature(\"The model should complete a code snippet for a simple game implementation\"), 1.34375)\n",
      ")], (1, 2, 'X', 4, 5, 6, 7, 8, 9): [FeatureActivations(\n",
      "   0: (Feature(\"Small positive integers (1-23) in code and data structures\"), 2.140625)\n",
      "   1: (Feature(\"Activation on the numeral 5, especially in scientific contexts\"), 2.03125)\n",
      "   2: (Feature(\"The model's turn to respond in ASCII-based games\"), 1.359375)\n",
      "   3: (Feature(\"May dates in SQL queries\"), 1.328125)\n",
      "   4: (Feature(\"Numerical patterns and sequences in structured data\"), 1.296875)\n",
      ")], (1, 2, 'X', 4, 'O', 6, 7, 'X', 9): [FeatureActivations(\n",
      "   0: (Feature(\"The number 6 in sequences or lists\"), 2.859375)\n",
      "   1: (Feature(\"Small integer and decimal representation\"), 1.40625)\n",
      "   2: (Feature(\"Sequential number listing activation\"), 1.3828125)\n",
      "   3: (Feature(\"Small positive integers (1-23) in code and data structures\"), 1.0625)\n",
      "   4: (Feature(\"ASCII art structural elements (vertical lines and box-drawing characters)\"), 1.0078125)\n",
      ")], (1, 2, 'X', 'X', 'O', 'O', 7, 'X', 9): [FeatureActivations(\n",
      "   0: (Feature(\"Representation of the number 2 or second position\"), 3.765625)\n",
      "   1: (Feature(\"The model's turn to respond in ASCII-based games\"), 1.375)\n",
      "   2: (Feature(\"Detection of the numeral 2\"), 1.2109375)\n",
      "   3: (Feature(\"Grid-based representations in games and visual patterns\"), 1.0546875)\n",
      "   4: (Feature(\"Numbered list items in language processing tasks\"), 0.875)\n",
      ")], (1, 'O', 'X', 'X', 'O', 'O', 'X', 'X', 9): [FeatureActivations(\n",
      "   0: (Feature(\"Upper bounds in programming examples (often 100 or 200)\"), 2.03125)\n",
      "   1: (Feature(\"Time representation in schedules and daily life\"), 2.0)\n",
      "   2: (Feature(\"Recognition of the number 9 in scientific contexts\"), 1.6640625)\n",
      "   3: (Feature(\"Sales Performance Metrics and Comparisons\"), 1.6015625)\n",
      "   4: (Feature(\"The model's turn to respond in ASCII-based games\"), 1.4140625)\n",
      ")]}, 'move_5': 2, 'step': 14, 'move_2': 2, 'invalid_move': 1, 'fail_safe': 1, 'move_4': 1, 'move_6': 1, 'move_9': 1}\n"
     ]
    }
   ],
   "source": [
    "print(student.stats)"
   ]
  },
  {
   "cell_type": "code",
   "execution_count": 113,
   "metadata": {},
   "outputs": [
    {
     "name": "stdout",
     "output_type": "stream",
     "text": [
      "Counter({Feature(\"The model's turn to respond in ASCII-based games\"): 6, Feature(\"Small positive integers (1-23) in code and data structures\"): 3, Feature(\"Activation on the numeral 5, especially in scientific contexts\"): 2, Feature(\"May dates in SQL queries\"): 2, Feature(\"Numerical patterns and sequences in structured data\"): 2, Feature(\"Representation of the number 2 or second position\"): 2, Feature(\"Detection of the numeral 2\"): 2, Feature(\"Grid-based representations in games and visual patterns\"): 2, Feature(\"Numbered list items in language processing tasks\"): 2, Feature(\"The number 4\"): 1, Feature(\"Small to medium numbers in structured lists or game results\"): 1, Feature(\"ASCII art vertical lines and forward slashes\"): 1, Feature(\"The model should complete a code snippet for a simple game implementation\"): 1, Feature(\"The number 6 in sequences or lists\"): 1, Feature(\"Small integer and decimal representation\"): 1, Feature(\"Sequential number listing activation\"): 1, Feature(\"ASCII art structural elements (vertical lines and box-drawing characters)\"): 1, Feature(\"Upper bounds in programming examples (often 100 or 200)\"): 1, Feature(\"Time representation in schedules and daily life\"): 1, Feature(\"Recognition of the number 9 in scientific contexts\"): 1, Feature(\"Sales Performance Metrics and Comparisons\"): 1})\n"
     ]
    }
   ],
   "source": [
    "# Combine all lists into one\n",
    "state_features = []\n",
    "for key in student.stats['top_features']:\n",
    "    state_features += student.stats['top_features'][key]\n",
    "\n",
    "all_features = []\n",
    "for i in range(len(state_features)):\n",
    "    all_features += state_features[i]\n",
    "    \n",
    "feature_values = []\n",
    "for feature in all_features:\n",
    "    feature_values.append(feature.feature)\n",
    "\n",
    "feature_counts = Counter(feature_values)\n",
    "print(feature_counts)"
   ]
  },
  {
   "cell_type": "code",
   "execution_count": 45,
   "metadata": {},
   "outputs": [],
   "source": [
    "# Save the results\n",
    "with open('output/results.pkl', 'wb') as f:\n",
    "    pickle.dump(feature_counts, f)\n",
    "\n",
    "# Human readable results\n",
    "df = pd.DataFrame.from_dict(feature_counts, orient='index')\n",
    "df.to_csv('output/results.csv')"
   ]
  },
  {
   "cell_type": "code",
   "execution_count": 41,
   "metadata": {},
   "outputs": [
    {
     "name": "stdout",
     "output_type": "stream",
     "text": [
      "Counter({Feature(\"Small positive integers (1-23) in code and data structures\"): 4, Feature(\"Numerical patterns and sequences in structured data\"): 2, Feature(\"Sequences or groups of consecutive numbers\"): 2, Feature(\"Sequential number listing activation\"): 2, Feature(\"Activation on the numeral 5, especially in scientific contexts\"): 1, Feature(\"The model's turn to respond in ASCII-based games\"): 1, Feature(\"May dates in SQL queries\"): 1, Feature(\"Numbers ending in 8 in sequential lists\"): 1, Feature(\"The number 8 in technical or quantitative contexts\"): 1, Feature(\"The number 6 in sequences or lists\"): 1, Feature(\"Small integer and decimal representation\"): 1, Feature(\"ASCII art structural elements (vertical lines and box-drawing characters)\"): 1, Feature(\"Small to medium numbers in structured lists or game results\"): 1, Feature(\"The number 7\"): 1})\n"
     ]
    }
   ],
   "source": [
    "# load the results\n",
    "with open('output/results.pkl', 'rb') as f:\n",
    "    test_results = pickle.load(f)\n",
    "    \n",
    "print(test_results)"
   ]
  },
  {
   "cell_type": "markdown",
   "metadata": {},
   "source": [
    "## Determining base success rate"
   ]
  },
  {
   "cell_type": "code",
   "execution_count": null,
   "metadata": {},
   "outputs": [
    {
     "name": "stderr",
     "output_type": "stream",
     "text": [
      "100%|██████████| 2/2 [00:15<00:00,  7.69s/it]"
     ]
    },
    {
     "name": "stdout",
     "output_type": "stream",
     "text": [
      "{'X': 2, 'O': 0, 'Draw': 0}\n",
      "{'top_features': {}, 'move_8': 2, 'step': 10, 'move_7': 2, 'move_5': 1}\n"
     ]
    },
    {
     "name": "stderr",
     "output_type": "stream",
     "text": [
      "\n"
     ]
    }
   ],
   "source": [
    "student_base, env_base, results_base = run_experiment(num_games=1000, get_context=False)\n",
    "print(results_base)\n",
    "print(student_base.stats)"
   ]
  },
  {
   "cell_type": "markdown",
   "metadata": {},
   "source": [
    "We define success as winning or drawing. Of course, the tic-tac-toe optimal agent cannot lose, so we only need to look at the draw rate."
   ]
  },
  {
   "cell_type": "markdown",
   "metadata": {},
   "source": [
    "## SAE RL"
   ]
  },
  {
   "cell_type": "code",
   "execution_count": 96,
   "metadata": {},
   "outputs": [
    {
     "name": "stdout",
     "output_type": "stream",
     "text": [
      "               \n",
      "   ]      \n",
      "Error: Could not extract move from text\n",
      " u v u • u s u\n",
      " u s u u u u\n",
      " u s a u a s u u u u u\n",
      "Error: Could not extract move from text\n",
      "DEefe FragspinnerDEunistefe zastavilderefeDE ectefe=_('ancellationTokenfikefeFragmentefe/preferencesizoefe宿DEDEDE\n",
      "Error: Could not extract move from text\n",
      "['O', 'O', 'X', 'X', 'X', 6, 7, 8, 9]\n",
      "1\n",
      "Error: Move already taken\n",
      "asting your tackled\n",
      " avoidance\n",
      " \n",
      "*** \n",
      " them\n",
      "\n",
      " \n",
      "\n",
      "\n",
      " \n",
      "\n",
      " \n",
      " \n",
      "\n",
      "  \n",
      "\n",
      "\n",
      "Error: Could not extract move from text\n",
      "ixingtinoinoerINO WyninoinoinoinoinoinoinoawahccessINOinoffiinoinoетомinoinoinoino\n",
      "Error: Could not extract move from text\n",
      "['X', 2, 3, 4, 5, 6, 7, 8, 9]\n",
      "0\n",
      "Error: Move already taken\n",
      "   Reply safe \\\n",
      " Marino  _s s anal mlad <![  banker   ]   Reply   \n",
      "Error: Could not extract move from text\n",
      " three\n",
      " timeline\n",
      " advancingenencestor\n",
      "oorhn variety credit\n",
      " trio\n",
      "\n",
      "oorroor]ooroor troputhuth\n",
      "Error: Could not extract move from text\n"
     ]
    }
   ],
   "source": [
    "# Sanity checker\n",
    "from stable_baselines3.common.env_checker import check_env\n",
    "from tictactoe import TicTacToeSAE\n",
    "from move_checker import MoveChecker\n",
    "from agents import OptimalAgent\n",
    "from constants import TEACHER\n",
    "\n",
    "move_checker = MoveChecker()\n",
    "optimal_agent = OptimalAgent(TEACHER, move_checker)\n",
    "\n",
    "env = TicTacToeSAE(move_checker=move_checker, teacher=optimal_agent)\n",
    "\n",
    "check_env(env)"
   ]
  },
  {
   "cell_type": "code",
   "execution_count": null,
   "metadata": {},
   "outputs": [
    {
     "name": "stdout",
     "output_type": "stream",
     "text": [
      "Using cpu device\n",
      "Wrapping the env with a `Monitor` wrapper\n",
      "Wrapping the env in a DummyVecEnv.\n",
      "Logging to output/tensorboard\\PPO_1\n"
     ]
    },
    {
     "data": {
      "application/vnd.jupyter.widget-view+json": {
       "model_id": "fa70f7507d8f41ea9250ede14d14fea9",
       "version_major": 2,
       "version_minor": 0
      },
      "text/plain": [
       "Output()"
      ]
     },
     "metadata": {},
     "output_type": "display_data"
    },
    {
     "name": "stdout",
     "output_type": "stream",
     "text": [
      "---------------------------------\n",
      "| rollout/           |          |\n",
      "|    ep_len_mean     | 3.6      |\n",
      "|    ep_rew_mean     | 25       |\n",
      "| time/              |          |\n",
      "|    fps             | 0        |\n",
      "|    iterations      | 1        |\n",
      "|    time_elapsed    | 50       |\n",
      "|    total_timesteps | 8        |\n",
      "---------------------------------\n"
     ]
    },
    {
     "name": "stdout",
     "output_type": "stream",
     "text": [
      "----------------------------------------\n",
      "| rollout/                |            |\n",
      "|    ep_len_mean          | 3          |\n",
      "|    ep_rew_mean          | 23.2       |\n",
      "| time/                   |            |\n",
      "|    fps                  | 0          |\n",
      "|    iterations           | 2          |\n",
      "|    time_elapsed         | 102        |\n",
      "|    total_timesteps      | 16         |\n",
      "| train/                  |            |\n",
      "|    approx_kl            | 0.07119021 |\n",
      "|    clip_fraction        | 0.463      |\n",
      "|    clip_range           | 0.2        |\n",
      "|    entropy_loss         | -41.2      |\n",
      "|    explained_variance   | -0.0215    |\n",
      "|    learning_rate        | 0.0003     |\n",
      "|    loss                 | 169        |\n",
      "|    n_updates            | 10         |\n",
      "|    policy_gradient_loss | -0.115     |\n",
      "|    std                  | 1          |\n",
      "|    value_loss           | 343        |\n",
      "----------------------------------------\n"
     ]
    },
    {
     "name": "stdout",
     "output_type": "stream",
     "text": [
      "----------------------------------------\n",
      "| rollout/                |            |\n",
      "|    ep_len_mean          | 2.9        |\n",
      "|    ep_rew_mean          | 23.3       |\n",
      "| time/                   |            |\n",
      "|    fps                  | 0          |\n",
      "|    iterations           | 3          |\n",
      "|    time_elapsed         | 147        |\n",
      "|    total_timesteps      | 24         |\n",
      "| train/                  |            |\n",
      "|    approx_kl            | 0.06696774 |\n",
      "|    clip_fraction        | 0.375      |\n",
      "|    clip_range           | 0.2        |\n",
      "|    entropy_loss         | -41.2      |\n",
      "|    explained_variance   | -0.0354    |\n",
      "|    learning_rate        | 0.0003     |\n",
      "|    loss                 | 105        |\n",
      "|    n_updates            | 20         |\n",
      "|    policy_gradient_loss | -0.115     |\n",
      "|    std                  | 1          |\n",
      "|    value_loss           | 213        |\n",
      "----------------------------------------\n"
     ]
    },
    {
     "name": "stdout",
     "output_type": "stream",
     "text": [
      "---------------------------------------\n",
      "| rollout/                |           |\n",
      "|    ep_len_mean          | 2.66      |\n",
      "|    ep_rew_mean          | 19.3      |\n",
      "| time/                   |           |\n",
      "|    fps                  | 0         |\n",
      "|    iterations           | 4         |\n",
      "|    time_elapsed         | 190       |\n",
      "|    total_timesteps      | 32        |\n",
      "| train/                  |           |\n",
      "|    approx_kl            | 0.0361251 |\n",
      "|    clip_fraction        | 0.225     |\n",
      "|    clip_range           | 0.2       |\n",
      "|    entropy_loss         | -41.2     |\n",
      "|    explained_variance   | -0.0702   |\n",
      "|    learning_rate        | 0.0003    |\n",
      "|    loss                 | 84.1      |\n",
      "|    n_updates            | 30        |\n",
      "|    policy_gradient_loss | -0.0844   |\n",
      "|    std                  | 1         |\n",
      "|    value_loss           | 172       |\n",
      "---------------------------------------\n"
     ]
    },
    {
     "name": "stdout",
     "output_type": "stream",
     "text": [
      "----------------------------------------\n",
      "| rollout/                |            |\n",
      "|    ep_len_mean          | 2.84       |\n",
      "|    ep_rew_mean          | 21.8       |\n",
      "| time/                   |            |\n",
      "|    fps                  | 0          |\n",
      "|    iterations           | 5          |\n",
      "|    time_elapsed         | 226        |\n",
      "|    total_timesteps      | 40         |\n",
      "| train/                  |            |\n",
      "|    approx_kl            | 0.04642964 |\n",
      "|    clip_fraction        | 0.175      |\n",
      "|    clip_range           | 0.2        |\n",
      "|    entropy_loss         | -41.2      |\n",
      "|    explained_variance   | -0.011     |\n",
      "|    learning_rate        | 0.0003     |\n",
      "|    loss                 | 48.4       |\n",
      "|    n_updates            | 40         |\n",
      "|    policy_gradient_loss | -0.071     |\n",
      "|    std                  | 1          |\n",
      "|    value_loss           | 99.3       |\n",
      "----------------------------------------\n"
     ]
    },
    {
     "name": "stdout",
     "output_type": "stream",
     "text": [
      "-----------------------------------------\n",
      "| rollout/                |             |\n",
      "|    ep_len_mean          | 2.82        |\n",
      "|    ep_rew_mean          | 22.8        |\n",
      "| time/                   |             |\n",
      "|    fps                  | 0           |\n",
      "|    iterations           | 6           |\n",
      "|    time_elapsed         | 267         |\n",
      "|    total_timesteps      | 48          |\n",
      "| train/                  |             |\n",
      "|    approx_kl            | 0.042957447 |\n",
      "|    clip_fraction        | 0.237       |\n",
      "|    clip_range           | 0.2         |\n",
      "|    entropy_loss         | -41.2       |\n",
      "|    explained_variance   | -0.0943     |\n",
      "|    learning_rate        | 0.0003      |\n",
      "|    loss                 | 221         |\n",
      "|    n_updates            | 50          |\n",
      "|    policy_gradient_loss | -0.0873     |\n",
      "|    std                  | 1           |\n",
      "|    value_loss           | 448         |\n",
      "-----------------------------------------\n"
     ]
    },
    {
     "name": "stdout",
     "output_type": "stream",
     "text": [
      "-----------------------------------------\n",
      "| rollout/                |             |\n",
      "|    ep_len_mean          | 2.77        |\n",
      "|    ep_rew_mean          | 22.3        |\n",
      "| time/                   |             |\n",
      "|    fps                  | 0           |\n",
      "|    iterations           | 7           |\n",
      "|    time_elapsed         | 305         |\n",
      "|    total_timesteps      | 56          |\n",
      "| train/                  |             |\n",
      "|    approx_kl            | 0.048149735 |\n",
      "|    clip_fraction        | 0.237       |\n",
      "|    clip_range           | 0.2         |\n",
      "|    entropy_loss         | -41.2       |\n",
      "|    explained_variance   | -0.112      |\n",
      "|    learning_rate        | 0.0003      |\n",
      "|    loss                 | 129         |\n",
      "|    n_updates            | 60          |\n",
      "|    policy_gradient_loss | -0.0876     |\n",
      "|    std                  | 1           |\n",
      "|    value_loss           | 262         |\n",
      "-----------------------------------------\n"
     ]
    },
    {
     "data": {
      "text/html": [
       "<pre style=\"white-space:pre;overflow-x:auto;line-height:normal;font-family:Menlo,'DejaVu Sans Mono',consolas,'Courier New',monospace\"></pre>\n"
      ],
      "text/plain": []
     },
     "metadata": {},
     "output_type": "display_data"
    },
    {
     "data": {
      "text/html": [
       "<pre style=\"white-space:pre;overflow-x:auto;line-height:normal;font-family:Menlo,'DejaVu Sans Mono',consolas,'Courier New',monospace\">\n",
       "</pre>\n"
      ],
      "text/plain": [
       "\n"
      ]
     },
     "metadata": {},
     "output_type": "display_data"
    }
   ],
   "source": [
    "student, env, results = run_experiment(num_games=4000, get_context=False, use_rl_agent=True) # num_games is really num steps in this case"
   ]
  },
  {
   "cell_type": "code",
   "execution_count": null,
   "metadata": {},
   "outputs": [
    {
     "name": "stdout",
     "output_type": "stream",
     "text": [
      "{'X': 18, 'O': 0, 'Draw': 2}\n"
     ]
    }
   ],
   "source": [
    "\n"
   ]
  }
 ],
 "metadata": {
  "kernelspec": {
   "display_name": "saerl",
   "language": "python",
   "name": "python3"
  },
  "language_info": {
   "codemirror_mode": {
    "name": "ipython",
    "version": 3
   },
   "file_extension": ".py",
   "mimetype": "text/x-python",
   "name": "python",
   "nbconvert_exporter": "python",
   "pygments_lexer": "ipython3",
   "version": "3.11.10"
  }
 },
 "nbformat": 4,
 "nbformat_minor": 2
}
